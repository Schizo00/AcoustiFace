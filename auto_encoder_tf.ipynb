{
 "cells": [
  {
   "cell_type": "code",
   "execution_count": 1,
   "metadata": {},
   "outputs": [],
   "source": [
    "import tensorflow as tf\n",
    "from dataset_tf import VoxDataset, DataGenerator\n",
    "from tqdm import tqdm\n",
    "from sklearn.model_selection import train_test_split\n",
    "import pandas as pd\n",
    "# from torch.utils.data import Dataset, DataLoader, random_split\n",
    "import numpy as np\n",
    "from tensorflow.keras.callbacks import EarlyStopping\n",
    "from weighted_mse import WeightedLoss\n",
    "# from weighted_chamfer_loss import WeightedChamferLoss\n",
    "import matplotlib.pyplot as plt\n",
    "import keras\n",
    "import pickle\n",
    "import os"
   ]
  },
  {
   "cell_type": "code",
   "execution_count": 2,
   "metadata": {},
   "outputs": [
    {
     "data": {
      "text/plain": [
       "'2.15.0'"
      ]
     },
     "execution_count": 2,
     "metadata": {},
     "output_type": "execute_result"
    }
   ],
   "source": [
    "tf.__version__"
   ]
  },
  {
   "cell_type": "code",
   "execution_count": 3,
   "metadata": {},
   "outputs": [],
   "source": [
    "dataset = VoxDataset(gender=\"f\")"
   ]
  },
  {
   "cell_type": "code",
   "execution_count": 4,
   "metadata": {},
   "outputs": [
    {
     "name": "stdout",
     "output_type": "stream",
     "text": [
      "43200\n"
     ]
    },
    {
     "data": {
      "text/plain": [
       "2160"
      ]
     },
     "execution_count": 4,
     "metadata": {},
     "output_type": "execute_result"
    }
   ],
   "source": [
    "ids = dataset.get_ids()\n",
    "len(ids)"
   ]
  },
  {
   "cell_type": "code",
   "execution_count": 5,
   "metadata": {},
   "outputs": [
    {
     "data": {
      "text/plain": [
       "2160"
      ]
     },
     "execution_count": 5,
     "metadata": {},
     "output_type": "execute_result"
    }
   ],
   "source": [
    "len(ids)"
   ]
  },
  {
   "cell_type": "code",
   "execution_count": 6,
   "metadata": {},
   "outputs": [
    {
     "data": {
      "text/plain": [
       "43200"
      ]
     },
     "execution_count": 6,
     "metadata": {},
     "output_type": "execute_result"
    }
   ],
   "source": [
    "len(dataset)"
   ]
  },
  {
   "cell_type": "code",
   "execution_count": 7,
   "metadata": {},
   "outputs": [],
   "source": [
    "def get_split():\n",
    "    DATASET_SIZE = len(dataset.get_ids())\n",
    "\n",
    "    train_size = int(0.6 * DATASET_SIZE)\n",
    "    val_size = int(0.2 * DATASET_SIZE)\n",
    "    test_size = DATASET_SIZE - train_size - val_size\n",
    "\n",
    "    np.random.seed(42)\n",
    "    np.random.shuffle(ids)\n",
    "\n",
    "    # Split the indices into training, validation, and test sets\n",
    "    train_indices = ids[:train_size]\n",
    "    val_indices = ids[train_size:train_size + val_size]\n",
    "    test_indices = ids[train_size + val_size:DATASET_SIZE]\n",
    "\n",
    "    train = VoxDataset(ids=train_indices)\n",
    "    # test = VoxDataset(ids=test_indices)\n",
    "    val = VoxDataset(ids=val_indices)\n",
    "\n",
    "    return train, 0, val"
   ]
  },
  {
   "cell_type": "code",
   "execution_count": 8,
   "metadata": {},
   "outputs": [
    {
     "name": "stdout",
     "output_type": "stream",
     "text": [
      "43200\n"
     ]
    }
   ],
   "source": [
    "train, _, val = get_split()"
   ]
  },
  {
   "cell_type": "code",
   "execution_count": 9,
   "metadata": {},
   "outputs": [
    {
     "name": "stdout",
     "output_type": "stream",
     "text": [
      "25920\n",
      "8640\n"
     ]
    }
   ],
   "source": [
    "train_ids = train.get_ids()\n",
    "# test_ids = test.get_ids()\n",
    "val_ids = val.get_ids()"
   ]
  },
  {
   "cell_type": "code",
   "execution_count": 10,
   "metadata": {},
   "outputs": [
    {
     "data": {
      "text/plain": [
       "(8640, 8)"
      ]
     },
     "execution_count": 10,
     "metadata": {},
     "output_type": "execute_result"
    }
   ],
   "source": [
    "val.annotations.shape"
   ]
  },
  {
   "cell_type": "code",
   "execution_count": 11,
   "metadata": {},
   "outputs": [],
   "source": [
    "# df = test.get_df_()\n",
    "# df.shape"
   ]
  },
  {
   "cell_type": "code",
   "execution_count": 12,
   "metadata": {},
   "outputs": [],
   "source": [
    "# df.head(50)"
   ]
  },
  {
   "cell_type": "code",
   "execution_count": 13,
   "metadata": {},
   "outputs": [],
   "source": [
    "# df['id'].value_counts()"
   ]
  },
  {
   "cell_type": "code",
   "execution_count": 14,
   "metadata": {},
   "outputs": [],
   "source": [
    "# sorted(test_ids)"
   ]
  },
  {
   "cell_type": "code",
   "execution_count": 15,
   "metadata": {},
   "outputs": [
    {
     "name": "stdout",
     "output_type": "stream",
     "text": [
      "25920\n",
      "8640\n"
     ]
    }
   ],
   "source": [
    "print(len(train))\n",
    "# print(len(test))\n",
    "print(len(val))"
   ]
  },
  {
   "cell_type": "code",
   "execution_count": 16,
   "metadata": {},
   "outputs": [],
   "source": [
    "import tensorflow as tf\n",
    "\n",
    "def AutoEncoder():\n",
    "    # Define input layer\n",
    "    input_layer = tf.keras.layers.Input(shape=(384,))\n",
    "    \n",
    "    # Encoder layers\n",
    "    encoder = tf.keras.layers.Dense(384, activation='tanh')(input_layer)\n",
    "\n",
    "    # encoder = input_layer\n",
    "\n",
    "    # attention = tf.keras.layers.Attention()([encoder, encoder])\n",
    "    # weighted_bottleneck = tf.keras.layers.multiply([attention, encoder])\n",
    "\n",
    "    # attention = tf.keras.layers.Attention()([weighted_bottleneck, weighted_bottleneck])\n",
    "    # weighted_bottleneck = tf.keras.layers.multiply([attention, weighted_bottleneck])\n",
    "    \n",
    "    # attention = tf.keras.layers.Attention()([weighted_bottleneck, weighted_bottleneck])\n",
    "    # weighted_bottleneck = tf.keras.layers.multiply([attention, weighted_bottleneck])\n",
    "\n",
    "    # attention = tf.keras.layers.Attention()([weighted_bottleneck, weighted_bottleneck])\n",
    "    # weighted_bottleneck = tf.keras.layers.multiply([attention, weighted_bottleneck])\n",
    "\n",
    "    # Bottleneck Decoders \n",
    "    decoder = tf.keras.layers.Dense(384, activation='tanh')(encoder)\n",
    "    decoder = tf.keras.layers.Dense(500, activation='tanh')(decoder)\n",
    "    decoder = tf.keras.layers.Dense(768, activation='tanh')(decoder)\n",
    "    decoder = tf.keras.layers.Dense(1000, activation='tanh')(decoder)\n",
    "    decoder = tf.keras.layers.Dense(1536, activation='tanh')(decoder)\n",
    "    decoder = tf.keras.layers.Dense(2000, activation='tanh')(decoder)\n",
    "    # decoder = tf.keras.layers.Dense(3072, activation='tanh')(decoder)\n",
    "    # decoder = tf.keras.layers.Dense(4000, activation='tanh')(decoder)\n",
    "    # decoder = tf.keras.layers.Dense(5000, activation='tanh')(decoder) # change from last\n",
    "    # decoder = tf.keras.layers.Dense(12288, activation='tanh')(decoder) # change from last\n",
    "    # decoder = tf.keras.layers.Dense(15000, activation='tanh')(decoder) # layer to comment when training female\n",
    "    # decoder = tf.keras.layers.Dense(15069, activation='tanh')(decoder)\n",
    "\n",
    "    decoder_output = tf.keras.layers.Dense(15069, activation='tanh')(decoder)\n",
    "    \n",
    "    # Define the model\n",
    "    model = tf.keras.models.Model(inputs=input_layer, outputs=decoder_output)\n",
    "    \n",
    "    return model"
   ]
  },
  {
   "cell_type": "code",
   "execution_count": 17,
   "metadata": {},
   "outputs": [],
   "source": [
    "num_epochs = 100\n",
    "batch = 32\n",
    "loss_weight = 1\n",
    "model_name = \"e1_w_ones_w_weightedMSE_w_customL2_10l_lr00001_female_directed_hausdorff\"\n",
    "# model_name = \"test\""
   ]
  },
  {
   "cell_type": "code",
   "execution_count": 18,
   "metadata": {},
   "outputs": [],
   "source": [
    "try:\n",
    "  os.mkdir(f\"./models/{model_name}\")\n",
    "except FileExistsError:\n",
    "  pass"
   ]
  },
  {
   "cell_type": "code",
   "execution_count": 19,
   "metadata": {},
   "outputs": [],
   "source": [
    "train = DataGenerator(train, batch_size=batch)\n",
    "val = DataGenerator(val, batch_size=batch)\n",
    "# test = DataGenerator(test, batch_size=batch)"
   ]
  },
  {
   "cell_type": "code",
   "execution_count": 20,
   "metadata": {},
   "outputs": [
    {
     "name": "stderr",
     "output_type": "stream",
     "text": [
      "2024-05-05 00:42:15.315649: I metal_plugin/src/device/metal_device.cc:1154] Metal device set to: Apple M1 Pro\n",
      "2024-05-05 00:42:15.315673: I metal_plugin/src/device/metal_device.cc:296] systemMemory: 16.00 GB\n",
      "2024-05-05 00:42:15.315677: I metal_plugin/src/device/metal_device.cc:313] maxCacheSize: 5.33 GB\n",
      "2024-05-05 00:42:15.315727: I tensorflow/core/common_runtime/pluggable_device/pluggable_device_factory.cc:306] Could not identify NUMA node of platform GPU ID 0, defaulting to 0. Your kernel may not have been built with NUMA support.\n",
      "2024-05-05 00:42:15.315904: I tensorflow/core/common_runtime/pluggable_device/pluggable_device_factory.cc:272] Created TensorFlow device (/job:localhost/replica:0/task:0/device:GPU:0 with 0 MB memory) -> physical PluggableDevice (device: 0, name: METAL, pci bus id: <undefined>)\n"
     ]
    }
   ],
   "source": [
    "model = AutoEncoder()\n"
   ]
  },
  {
   "cell_type": "code",
   "execution_count": 21,
   "metadata": {},
   "outputs": [],
   "source": [
    "# print(len(test[len(test)-1][1]))"
   ]
  },
  {
   "cell_type": "code",
   "execution_count": 22,
   "metadata": {},
   "outputs": [],
   "source": [
    "attention_ids = np.load(\"./weight_indices.npy\")"
   ]
  },
  {
   "cell_type": "code",
   "execution_count": 23,
   "metadata": {},
   "outputs": [
    {
     "data": {
      "text/plain": [
       "3540"
      ]
     },
     "execution_count": 23,
     "metadata": {},
     "output_type": "execute_result"
    }
   ],
   "source": [
    "len(attention_ids)"
   ]
  },
  {
   "cell_type": "code",
   "execution_count": 24,
   "metadata": {},
   "outputs": [],
   "source": [
    "with open('custom_loss_dict.pkl', 'rb') as file:\n",
    "    custom_metric = pickle.load(file)"
   ]
  },
  {
   "cell_type": "code",
   "execution_count": 25,
   "metadata": {},
   "outputs": [],
   "source": [
    "base_loss = tf.keras.losses.MeanSquaredError()\n",
    "\n",
    "weighted_loss = WeightedLoss(base_loss=base_loss, attention_ids=attention_ids,custom_metric_dict=custom_metric, weight=loss_weight, batch_size=batch)\n",
    "# weighted_chamfer_loss = WeightedChamferLoss(attention_ids=attention_ids, weight=loss_weight, batch_size=batch)"
   ]
  },
  {
   "cell_type": "code",
   "execution_count": 26,
   "metadata": {},
   "outputs": [],
   "source": [
    "# for i in tqdm(weights):\n",
    "#     print(i, end='\\r')"
   ]
  },
  {
   "cell_type": "code",
   "execution_count": 27,
   "metadata": {},
   "outputs": [
    {
     "name": "stdout",
     "output_type": "stream",
     "text": [
      "Epoch 1/100\n"
     ]
    },
    {
     "name": "stderr",
     "output_type": "stream",
     "text": [
      "2024-05-05 00:42:16.475058: I tensorflow/core/grappler/optimizers/custom_graph_optimizer_registry.cc:117] Plugin optimizer for device_type GPU is enabled.\n"
     ]
    },
    {
     "name": "stdout",
     "output_type": "stream",
     "text": [
      "810/810 [==============================] - 92s 111ms/step - loss: 335.8179 - val_loss: 55.6563\n",
      "Epoch 2/100\n",
      "810/810 [==============================] - 84s 104ms/step - loss: 50.4947 - val_loss: 43.4710\n",
      "Epoch 3/100\n",
      "810/810 [==============================] - 82s 101ms/step - loss: 43.2777 - val_loss: 44.7648\n",
      "Epoch 4/100\n",
      "810/810 [==============================] - 79s 98ms/step - loss: 40.7728 - val_loss: 36.8464\n",
      "Epoch 5/100\n",
      "810/810 [==============================] - 89s 110ms/step - loss: 37.6728 - val_loss: 32.9463\n",
      "Epoch 6/100\n",
      "810/810 [==============================] - 83s 102ms/step - loss: 35.7268 - val_loss: 36.1631\n",
      "Epoch 7/100\n",
      "810/810 [==============================] - 78s 96ms/step - loss: 33.7443 - val_loss: 33.5107\n",
      "Epoch 8/100\n",
      "810/810 [==============================] - 78s 96ms/step - loss: 32.8982 - val_loss: 34.4183\n",
      "Epoch 9/100\n",
      "810/810 [==============================] - 78s 96ms/step - loss: 31.6097 - val_loss: 31.2543\n",
      "Epoch 10/100\n",
      "810/810 [==============================] - 78s 96ms/step - loss: 30.2016 - val_loss: 27.7611\n",
      "Epoch 11/100\n",
      "810/810 [==============================] - 78s 96ms/step - loss: 29.3529 - val_loss: 26.1840\n",
      "Epoch 12/100\n",
      "810/810 [==============================] - 78s 96ms/step - loss: 29.0069 - val_loss: 28.9498\n",
      "Epoch 13/100\n",
      "810/810 [==============================] - 77s 95ms/step - loss: 28.3048 - val_loss: 27.3533\n",
      "Epoch 14/100\n",
      "810/810 [==============================] - 77s 95ms/step - loss: 28.2245 - val_loss: 28.0508\n",
      "Epoch 15/100\n",
      "810/810 [==============================] - 77s 95ms/step - loss: 27.3121 - val_loss: 24.8613\n",
      "Epoch 16/100\n",
      "810/810 [==============================] - 78s 96ms/step - loss: 26.9946 - val_loss: 24.5593\n",
      "Epoch 17/100\n",
      "810/810 [==============================] - 77s 95ms/step - loss: 26.3411 - val_loss: 26.2465\n",
      "Epoch 18/100\n",
      "810/810 [==============================] - 81s 100ms/step - loss: 26.1465 - val_loss: 26.5618\n",
      "Epoch 19/100\n",
      "810/810 [==============================] - 80s 99ms/step - loss: 25.4070 - val_loss: 28.6981\n",
      "Epoch 20/100\n",
      "810/810 [==============================] - 85s 105ms/step - loss: 25.2287 - val_loss: 23.2052\n",
      "Epoch 21/100\n",
      "810/810 [==============================] - 93s 115ms/step - loss: 24.7340 - val_loss: 22.9074\n",
      "Epoch 22/100\n",
      "810/810 [==============================] - 87s 108ms/step - loss: 24.3320 - val_loss: 27.0451\n",
      "Epoch 23/100\n",
      "810/810 [==============================] - 89s 110ms/step - loss: 23.9707 - val_loss: 22.9237\n",
      "Epoch 24/100\n",
      "810/810 [==============================] - 85s 106ms/step - loss: 24.1895 - val_loss: 22.5556\n",
      "Epoch 25/100\n",
      "810/810 [==============================] - 93s 115ms/step - loss: 23.7229 - val_loss: 21.5553\n",
      "Epoch 26/100\n",
      "810/810 [==============================] - 83s 102ms/step - loss: 23.1776 - val_loss: 22.4819\n",
      "Epoch 27/100\n",
      "810/810 [==============================] - 88s 108ms/step - loss: 23.0333 - val_loss: 22.0746\n",
      "Epoch 28/100\n",
      "810/810 [==============================] - 85s 105ms/step - loss: 22.8982 - val_loss: 22.9765\n",
      "Epoch 29/100\n",
      "810/810 [==============================] - 89s 110ms/step - loss: 23.0108 - val_loss: 22.3892\n",
      "Epoch 30/100\n",
      "810/810 [==============================] - 91s 112ms/step - loss: 22.6892 - val_loss: 21.8825\n",
      "Epoch 31/100\n",
      "810/810 [==============================] - 85s 105ms/step - loss: 22.2980 - val_loss: 21.2660\n",
      "Epoch 32/100\n",
      "810/810 [==============================] - 87s 107ms/step - loss: 22.0527 - val_loss: 22.3957\n",
      "Epoch 33/100\n",
      "810/810 [==============================] - 87s 107ms/step - loss: 21.6614 - val_loss: 20.2550\n",
      "Epoch 34/100\n",
      "810/810 [==============================] - 86s 106ms/step - loss: 21.5906 - val_loss: 21.7115\n",
      "Epoch 35/100\n",
      "810/810 [==============================] - 90s 111ms/step - loss: 21.8412 - val_loss: 19.7735\n",
      "Epoch 36/100\n",
      "810/810 [==============================] - 93s 115ms/step - loss: 21.2728 - val_loss: 20.4460\n",
      "Epoch 37/100\n",
      "810/810 [==============================] - 88s 109ms/step - loss: 21.1029 - val_loss: 19.7496\n",
      "Epoch 38/100\n",
      "810/810 [==============================] - 90s 112ms/step - loss: 21.2734 - val_loss: 20.4684\n",
      "Epoch 39/100\n",
      "810/810 [==============================] - 91s 112ms/step - loss: 21.0799 - val_loss: 19.6633\n",
      "Epoch 40/100\n",
      "810/810 [==============================] - 92s 113ms/step - loss: 20.7875 - val_loss: 18.6566\n",
      "Epoch 41/100\n",
      "810/810 [==============================] - 92s 114ms/step - loss: 20.4879 - val_loss: 23.1170\n",
      "Epoch 42/100\n",
      "810/810 [==============================] - 95s 117ms/step - loss: 20.6935 - val_loss: 20.6540\n",
      "Epoch 43/100\n",
      "810/810 [==============================] - 89s 110ms/step - loss: 20.4158 - val_loss: 19.1859\n",
      "Epoch 44/100\n",
      "810/810 [==============================] - 87s 107ms/step - loss: 20.4514 - val_loss: 19.7872\n",
      "Epoch 45/100\n",
      "810/810 [==============================] - 102s 126ms/step - loss: 20.2982 - val_loss: 19.6416\n",
      "Epoch 46/100\n",
      "810/810 [==============================] - 100s 122ms/step - loss: 20.4564 - val_loss: 19.5705\n",
      "Epoch 47/100\n",
      "810/810 [==============================] - 106s 129ms/step - loss: 20.1564 - val_loss: 19.1558\n",
      "Epoch 48/100\n",
      "810/810 [==============================] - 101s 124ms/step - loss: 19.9999 - val_loss: 18.8420\n",
      "Epoch 49/100\n",
      "810/810 [==============================] - 104s 129ms/step - loss: 20.0587 - val_loss: 19.7832\n",
      "Epoch 50/100\n",
      "810/810 [==============================] - 100s 124ms/step - loss: 19.9736 - val_loss: 18.9140\n",
      "Epoch 51/100\n",
      "810/810 [==============================] - 97s 120ms/step - loss: 19.6496 - val_loss: 20.3685\n",
      "Epoch 52/100\n",
      "810/810 [==============================] - 94s 116ms/step - loss: 19.9188 - val_loss: 19.7726\n",
      "Epoch 53/100\n",
      "810/810 [==============================] - 95s 117ms/step - loss: 19.6385 - val_loss: 20.1141\n",
      "Epoch 54/100\n",
      "810/810 [==============================] - 95s 117ms/step - loss: 19.5316 - val_loss: 20.2832\n",
      "Epoch 55/100\n",
      "810/810 [==============================] - 93s 115ms/step - loss: 19.5445 - val_loss: 19.2634\n",
      "Epoch 55: early stopping\n"
     ]
    }
   ],
   "source": [
    "# Define the learning rate decay schedule\n",
    "# learning_rate = tf.keras.optimizers.schedules.ExponentialDecay(\n",
    "#     initial_learning_rate=0.001,\n",
    "#     decay_steps=num_epochs * 3,\n",
    "#     decay_rate=0.1,\n",
    "#     staircase=True\n",
    "# )\n",
    "\n",
    "# Create the optimizer with the learning rate schedule\n",
    "optimizer = tf.keras.optimizers.legacy.Adam(learning_rate=0.00001)\n",
    "\n",
    "# Compile the model with the optimizer\n",
    "model.compile(optimizer=optimizer, loss=weighted_loss)\n",
    "\n",
    "early_stopping_val_loss = EarlyStopping(monitor='val_loss', patience=15, verbose=1)\n",
    "early_stopping_train_loss = EarlyStopping(monitor='loss', patience=7, verbose=1)\n",
    "\n",
    "# Train the model using model.fit\n",
    "history = model.fit(train, epochs=num_epochs, batch_size=batch, validation_data=val, \n",
    "          callbacks=[early_stopping_train_loss, early_stopping_val_loss]\n",
    "          )"
   ]
  },
  {
   "cell_type": "code",
   "execution_count": 28,
   "metadata": {},
   "outputs": [
    {
     "name": "stdout",
     "output_type": "stream",
     "text": [
      "Model: \"model\"\n",
      "_________________________________________________________________\n",
      " Layer (type)                Output Shape              Param #   \n",
      "=================================================================\n",
      " input_1 (InputLayer)        [(None, 384)]             0         \n",
      "                                                                 \n",
      " dense (Dense)               (None, 384)               147840    \n",
      "                                                                 \n",
      " dense_1 (Dense)             (None, 384)               147840    \n",
      "                                                                 \n",
      " dense_2 (Dense)             (None, 500)               192500    \n",
      "                                                                 \n",
      " dense_3 (Dense)             (None, 768)               384768    \n",
      "                                                                 \n",
      " dense_4 (Dense)             (None, 1000)              769000    \n",
      "                                                                 \n",
      " dense_5 (Dense)             (None, 1536)              1537536   \n",
      "                                                                 \n",
      " dense_6 (Dense)             (None, 2000)              3074000   \n",
      "                                                                 \n",
      " dense_7 (Dense)             (None, 15069)             30153069  \n",
      "                                                                 \n",
      "=================================================================\n",
      "Total params: 36406553 (138.88 MB)\n",
      "Trainable params: 36406553 (138.88 MB)\n",
      "Non-trainable params: 0 (0.00 Byte)\n",
      "_________________________________________________________________\n"
     ]
    }
   ],
   "source": [
    "model.summary()"
   ]
  },
  {
   "cell_type": "code",
   "execution_count": 29,
   "metadata": {},
   "outputs": [],
   "source": [
    "import pickle\n",
    "\n",
    "with open(f'./models/{model_name}/loss_config.pkl', 'wb') as file:\n",
    "    pickle.dump(weighted_loss.get_config(), file)\n",
    "\n",
    "# loss = model.evaluate(test)\n",
    "# acc = 0"
   ]
  },
  {
   "cell_type": "code",
   "execution_count": 30,
   "metadata": {},
   "outputs": [],
   "source": [
    "# print(f\"Accuracy: {acc*100:.4f}%\\nLoss: {loss:.4f}\")"
   ]
  },
  {
   "cell_type": "code",
   "execution_count": 31,
   "metadata": {},
   "outputs": [
    {
     "name": "stderr",
     "output_type": "stream",
     "text": [
      "/Users/naweenk/miniforge3/envs/demo/lib/python3.10/site-packages/keras/src/engine/training.py:3103: UserWarning: You are saving your model as an HDF5 file via `model.save()`. This file format is considered legacy. We recommend using instead the native Keras format, e.g. `model.save('my_model.keras')`.\n",
      "  saving_api.save_model(\n"
     ]
    }
   ],
   "source": [
    "model.save(f'./models/{model_name}/model.h5')"
   ]
  },
  {
   "cell_type": "code",
   "execution_count": 32,
   "metadata": {},
   "outputs": [],
   "source": [
    "weighted_loss = WeightedLoss(base_loss=base_loss, attention_ids=attention_ids,custom_metric_dict=custom_metric, weight=loss_weight, batch_size=1)"
   ]
  },
  {
   "cell_type": "code",
   "execution_count": 33,
   "metadata": {},
   "outputs": [
    {
     "data": {
      "text/plain": [
       "{'base_loss': <keras.src.losses.MeanSquaredError at 0x320d79c00>,\n",
       " 'attention_ids': array([   0,    1,    2, ..., 5020, 5021, 5022]),\n",
       " 'weight': 1,\n",
       " 'batch_size': 1,\n",
       " 'custom_metric_dict': {'nose_bridge': [3516, 3526],\n",
       "  'r_eye_lid': [3690, 2265],\n",
       "  'l_eye_lid': [3856, 809],\n",
       "  'lip': [3543, 3503],\n",
       "  'r_lip_bend': [2850, 3798],\n",
       "  'l_lip_bend': [1735, 3021],\n",
       "  'r_lip_jaw': [3798, 3406],\n",
       "  'l_lip_jaw': [3021, 3614],\n",
       "  'lip_chin': [3503, 3487],\n",
       "  'orbital_lower': [3710, 3866],\n",
       "  'oribtal_upper': [3154, 2135],\n",
       "  'puffer': [3436, 3667],\n",
       "  'mouth_corner': [2827, 1710],\n",
       "  'jaw_end': [3406, 3614],\n",
       "  'ear_end': [856, 288]}}"
      ]
     },
     "execution_count": 33,
     "metadata": {},
     "output_type": "execute_result"
    }
   ],
   "source": [
    "weighted_loss.get_config()"
   ]
  },
  {
   "cell_type": "code",
   "execution_count": 34,
   "metadata": {},
   "outputs": [],
   "source": [
    "model = tf.keras.models.load_model(f\"./models/{model_name}/model.h5\", \n",
    "    custom_objects={\"WeightedLoss\" : weighted_loss})\n"
   ]
  },
  {
   "cell_type": "code",
   "execution_count": 35,
   "metadata": {},
   "outputs": [
    {
     "name": "stdout",
     "output_type": "stream",
     "text": [
      "810/810 [==============================] - 61s 75ms/step - loss: 19.1239\n"
     ]
    }
   ],
   "source": [
    "loss = model.evaluate(train)\n",
    "acc = 0"
   ]
  },
  {
   "cell_type": "code",
   "execution_count": 36,
   "metadata": {},
   "outputs": [],
   "source": [
    "y_pred = []"
   ]
  },
  {
   "cell_type": "code",
   "execution_count": 37,
   "metadata": {},
   "outputs": [],
   "source": [
    "# test[419][0].shape"
   ]
  },
  {
   "cell_type": "code",
   "execution_count": 38,
   "metadata": {},
   "outputs": [],
   "source": [
    "# model.predict(test[0][0]).shape"
   ]
  },
  {
   "cell_type": "code",
   "execution_count": 39,
   "metadata": {},
   "outputs": [
    {
     "name": "stderr",
     "output_type": "stream",
     "text": [
      "100%|██████████| 810/810 [01:20<00:00, 10.06it/s]\n"
     ]
    }
   ],
   "source": [
    "for i in tqdm(train):\n",
    "    pred = (model.predict(i[0], verbose=0)\n",
    "              *201.41335\n",
    "            )\n",
    "    for j in range(len(pred)):\n",
    "        y_pred.append([i[1][j], VoxDataset.to_mesh_points(pred[j])])\n",
    "\n"
   ]
  },
  {
   "cell_type": "code",
   "execution_count": 40,
   "metadata": {},
   "outputs": [
    {
     "data": {
      "text/plain": [
       "25920"
      ]
     },
     "execution_count": 40,
     "metadata": {},
     "output_type": "execute_result"
    }
   ],
   "source": [
    "len(y_pred)"
   ]
  },
  {
   "cell_type": "code",
   "execution_count": 41,
   "metadata": {},
   "outputs": [
    {
     "name": "stderr",
     "output_type": "stream",
     "text": [
      "100%|██████████| 25920/25920 [13:55<00:00, 31.02it/s]\n"
     ]
    }
   ],
   "source": [
    "import open3d as o3d\n",
    "import numpy as np\n",
    "\n",
    "for index, i in enumerate(tqdm(y_pred)):\n",
    "    vertices = o3d.utility.Vector3dVector(i[1])\n",
    "    triangles = o3d.utility.Vector3iVector(dataset.get_faces())\n",
    "    mesh = o3d.geometry.TriangleMesh(vertices, triangles)\n",
    "    o3d.io.write_triangle_mesh(f\"./Test/data_{index}.obj\", mesh, \n",
    "                            #    write_ascii=False\n",
    "                               )"
   ]
  },
  {
   "cell_type": "code",
   "execution_count": 42,
   "metadata": {},
   "outputs": [],
   "source": [
    "# test_ids"
   ]
  },
  {
   "cell_type": "code",
   "execution_count": 43,
   "metadata": {},
   "outputs": [
    {
     "data": {
      "image/png": "[encoded data removed]",
      "text/plain": [
       "<Figure size 640x480 with 1 Axes>"
      ]
     },
     "metadata": {},
     "output_type": "display_data"
    }
   ],
   "source": [
    "plt.plot(history.history['loss'])\n",
    "plt.plot(history.history['val_loss'])\n",
    "plt.title('model loss')\n",
    "plt.ylabel('loss')\n",
    "plt.xlabel('epoch')\n",
    "# plt.ylim(0, 20)\n",
    "plt.legend(['train', 'val'], loc='upper left')\n",
    "plt.savefig(f\"./models/{model_name}/loss.png\")\n",
    "plt.show()"
   ]
  },
  {
   "cell_type": "code",
   "execution_count": null,
   "metadata": {},
   "outputs": [],
   "source": []
  },
  {
   "cell_type": "code",
   "execution_count": 44,
   "metadata": {},
   "outputs": [],
   "source": [
    "# import numpy as np\n",
    "# from scipy.spatial import Delaunay\n",
    "# import trimesh\n",
    "\n",
    "# points = y_pred[0]\n",
    "\n",
    "# pcd = o3d.geometry.PointCloud()\n",
    "# pcd.points = o3d.utility.Vector3dVector(points)\n",
    "\n",
    "# # Estimate normals for the point cloud\n",
    "# pcd.estimate_normals()\n",
    "\n",
    "# # Create a surface mesh from the point cloud using Poisson reconstruction\n",
    "# mesh, densities = o3d.geometry.TriangleMesh.create_from_point_cloud_poisson(pcd, depth=9)\n",
    "\n",
    "# # Visualize the mesh (optional)\n",
    "# o3d.visualization.draw_geometries([mesh])"
   ]
  },
  {
   "cell_type": "code",
   "execution_count": 45,
   "metadata": {},
   "outputs": [],
   "source": [
    "# point_cloud = o3d.geometry.PointCloud()\n",
    "# triangle_mesh = o3d.geometry.TriangleMesh()\n",
    "\n",
    "# # Define the point cloud data (replace with your actual data)\n",
    "\n",
    "# point_cloud.points = o3d.utility.Vector3dVector(i)\n",
    "\n",
    "# # Define the triangle data (replace with your actual data)\n",
    "# triangles = dataset.get_faces()  # Example triangle indices\n",
    "# triangle_mesh.triangles = triangles\n",
    "\n",
    "# # Combine the point cloud and triangle mesh into a single geometry (optional)\n",
    "# combined_geometry = point_cloud + triangle_mesh  # Combine point cloud and mesh\n",
    "\n",
    "# # Write the geometry to a PLY file\n",
    "# o3d.io.write_point_cloud(\"point_cloud_and_mesh.ply\", combined_geometry)"
   ]
  },
  {
   "cell_type": "code",
   "execution_count": 46,
   "metadata": {},
   "outputs": [],
   "source": [
    "# test[0][0].shape"
   ]
  },
  {
   "cell_type": "code",
   "execution_count": null,
   "metadata": {},
   "outputs": [],
   "source": []
  }
 ],
 "metadata": {
  "kernelspec": {
   "display_name": "head",
   "language": "python",
   "name": "python3"
  },
  "language_info": {
   "codemirror_mode": {
    "name": "ipython",
    "version": 3
   },
   "file_extension": ".py",
   "mimetype": "text/x-python",
   "name": "python",
   "nbconvert_exporter": "python",
   "pygments_lexer": "ipython3",
   "version": "3.10.14"
  }
 },
 "nbformat": 4,
 "nbformat_minor": 2
}
